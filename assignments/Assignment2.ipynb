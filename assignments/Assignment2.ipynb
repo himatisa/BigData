{
 "cells": [
  {
   "cell_type": "markdown",
   "metadata": {},
   "source": [
    "**Assignment 2**               ![Spark logo](https://spark.apache.org/images/spark-logo-trademark.png)\n",
    "                                 \n",
    "   Association Rule Mining Assignment.   \n",
    "   I will answer a few questions using FP growth on a Retail data set. \n",
    "   \n",
    "   \n",
    "   We will start by setting and grouping the dataset by  'InvoiceNo' and will concatenate 'StockCode' data and create a .txt file that we use as training data.\n"
   ]
  },
  {
   "cell_type": "code",
   "execution_count": 3,
   "metadata": {},
   "outputs": [],
   "source": [
    "import pandas as pd\n",
    "df = pd.read_csv('Retail.csv', encoding = \"ISO-8859-1\")\n",
    "s2 =df.groupby('InvoiceNo')['StockCode'].apply(','.join)\n",
    "s2 = s2.reset_index()\n",
    "s2[:5].to_csv('Retail.txt', columns = [\"StockCode\"], header=False, index=False)"
   ]
  },
  {
   "cell_type": "code",
   "execution_count": 5,
   "metadata": {},
   "outputs": [],
   "source": [
    "raw_rdd = s2"
   ]
  },
  {
   "cell_type": "markdown",
   "metadata": {},
   "source": [
    "I will run a count on the dataset"
   ]
  },
  {
   "cell_type": "code",
   "execution_count": 6,
   "metadata": {},
   "outputs": [
    {
     "data": {
      "text/plain": [
       "InvoiceNo    25900\n",
       "StockCode    25900\n",
       "dtype: int64"
      ]
     },
     "execution_count": 6,
     "metadata": {},
     "output_type": "execute_result"
    }
   ],
   "source": [
    "raw_rdd.count()"
   ]
  },
  {
   "cell_type": "markdown",
   "metadata": {},
   "source": [
    "We will take the first 5 rows in which i assume the first row is headers so i will take 6."
   ]
  },
  {
   "cell_type": "code",
   "execution_count": null,
   "metadata": {},
   "outputs": [],
   "source": []
  }
 ],
 "metadata": {
  "kernelspec": {
   "display_name": "Python 3",
   "language": "python",
   "name": "python3"
  },
  "language_info": {
   "codemirror_mode": {
    "name": "ipython",
    "version": 3
   },
   "file_extension": ".py",
   "mimetype": "text/x-python",
   "name": "python",
   "nbconvert_exporter": "python",
   "pygments_lexer": "ipython3",
   "version": "3.6.3"
  }
 },
 "nbformat": 4,
 "nbformat_minor": 2
}
